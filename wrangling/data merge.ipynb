{
 "cells": [
  {
   "cell_type": "code",
   "execution_count": 4,
   "metadata": {},
   "outputs": [],
   "source": [
    "import pandas as pd\n",
    "import numpy as np\n",
    "\n",
    "budgets_raw = pd.read_csv(\"Budgets_raw.csv\", sep=\"|\")"
   ]
  },
  {
   "cell_type": "code",
   "execution_count": 6,
   "metadata": {},
   "outputs": [],
   "source": [
    "imdb_title_basics = pd.read_csv(\"title.basics.tsv\", sep=\"\\t\", low_memory=False).query(\"titleType == 'movie'\")"
   ]
  },
  {
   "cell_type": "code",
   "execution_count": 31,
   "metadata": {},
   "outputs": [],
   "source": [
    "# separate year from release date and add year to own column\n",
    "budgets_raw[\"year\"] = budgets_raw[\"Release date\"].apply(lambda x: x[-4:])"
   ]
  },
  {
   "cell_type": "code",
   "execution_count": null,
   "metadata": {},
   "outputs": [],
   "source": [
    "#Load primary titles and original titles to own dataframes\n",
    "imdb_primary = imdb_title_basics[[\"tconst\", \"primaryTitle\", \"startYear\"]].rename(columns={\"primaryTitle\":\"Title\", \"startYear\":\"year\"}).dropna(subset=\"Title\")\n",
    "imdb_original = imdb_title_basics[[\"tconst\", \"originalTitle\", \"startYear\"]].rename(columns={\"originalTitle\":\"Title\", \"startYear\":\"year\"}).dropna(subset=\"Title\")"
   ]
  },
  {
   "cell_type": "code",
   "execution_count": 105,
   "metadata": {},
   "outputs": [],
   "source": [
    "# Filter duplicates from budgets into own separate dataframe\n",
    "budgets = budgets_raw.loc[~budgets_raw.duplicated(subset=\"Title\", keep=False)].copy()\n",
    "budgets_duplicates = budgets_raw.loc[budgets_raw.duplicated(subset=\"Title\", keep=False)].copy()"
   ]
  },
  {
   "cell_type": "code",
   "execution_count": 106,
   "metadata": {},
   "outputs": [],
   "source": [
    "# Join budgets with primary titles on title name and year\n",
    "budgets1 = pd.merge(budgets, imdb_primary, on=[\"Title\", \"year\"], how=\"left\")"
   ]
  },
  {
   "cell_type": "code",
   "execution_count": 107,
   "metadata": {},
   "outputs": [],
   "source": [
    "# Remove duplicated titles\n",
    "removed1 = budgets1.loc[budgets1.duplicated(subset=\"Title\", keep=False)]\n",
    "budgets1 = budgets1.loc[~budgets1.duplicated(subset=\"Title\", keep=False)]\n"
   ]
  },
  {
   "cell_type": "code",
   "execution_count": null,
   "metadata": {},
   "outputs": [],
   "source": [
    "removed1.to_csv(\"removed duplicated titles.csv\", index=False)"
   ]
  },
  {
   "cell_type": "code",
   "execution_count": 161,
   "metadata": {},
   "outputs": [],
   "source": [
    "# list of index numbers for missing titles\n",
    "missing_titles_indexes = budgets1.loc[(budgets1[\"tconst\"].isna()) & (budgets1[\"year\"]!=\"nown\")].index\n"
   ]
  },
  {
   "cell_type": "code",
   "execution_count": 158,
   "metadata": {},
   "outputs": [],
   "source": [
    "\n",
    "# from difflib import SequenceMatcher\n",
    "\n",
    "# for index in missing_titles_indexes:\n",
    "#     # threshold for ratio\n",
    "#     best = 0.9\n",
    "#     match_found = False\n",
    "\n",
    "#     title_name = budgets1.loc[index, \"Title\"]\n",
    "#     title_year = budgets1.loc[index, \"year\"]\n",
    "\n",
    "#     imdb_titles = imdb_original.loc[(imdb_original[\"year\"] == str(int(title_year)-1)) | (imdb_original[\"year\"] == str(int(title_year)+1)) | (imdb_original[\"year\"] == title_year), \"Title\"]\n",
    "#     imdb_indexes = imdb_titles.index\n",
    "\n",
    "#     for imdb_i, title in zip(imdb_indexes, imdb_titles):\n",
    "#         ratio = SequenceMatcher(a=title_name, b=title).ratio()\n",
    "#         if ratio > best:\n",
    "#             match_found = True\n",
    "#             best = ratio\n",
    "#             best_imdb_index = imdb_i\n",
    "\n",
    "#     if match_found:\n",
    "#         #budgets1.loc[index, \"Title\"] = imdb_primary.loc[best_imdb_index, \"Title\"]\n",
    "#         budgets1.loc[index, \"tconst\"] = imdb_primary.loc[best_imdb_index, \"tconst\"]\n",
    "\n"
   ]
  },
  {
   "cell_type": "code",
   "execution_count": 159,
   "metadata": {},
   "outputs": [],
   "source": [
    "budgets1.to_csv(\"budgets.csv\")"
   ]
  },
  {
   "cell_type": "code",
   "execution_count": 164,
   "metadata": {},
   "outputs": [],
   "source": [
    "budgets1[\"tconst\"].to_csv(\"imdb_codes.csv\", index=False)"
   ]
  },
  {
   "cell_type": "code",
   "execution_count": 163,
   "metadata": {},
   "outputs": [],
   "source": [
    "budgets1.loc[missing_titles_indexes].to_csv(\"budgets_missing_tconst.csv\")"
   ]
  },
  {
   "cell_type": "code",
   "execution_count": null,
   "metadata": {},
   "outputs": [],
   "source": []
  }
 ],
 "metadata": {
  "kernelspec": {
   "display_name": "Python 3",
   "language": "python",
   "name": "python3"
  },
  "language_info": {
   "codemirror_mode": {
    "name": "ipython",
    "version": 3
   },
   "file_extension": ".py",
   "mimetype": "text/x-python",
   "name": "python",
   "nbconvert_exporter": "python",
   "pygments_lexer": "ipython3",
   "version": "3.12.7"
  }
 },
 "nbformat": 4,
 "nbformat_minor": 2
}
