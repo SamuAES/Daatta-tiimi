{
 "cells": [
  {
   "cell_type": "code",
   "execution_count": 139,
   "metadata": {},
   "outputs": [],
   "source": [
    "from tpot import TPOTClassifier\n",
    "from tpot import TPOTRegressor\n",
    "import numpy as np\n",
    "import pandas as pd\n",
    "import pickle\n",
    "\n",
    "\n",
    "with open('movie_data_with_budgets.pkl', 'rb') as f:\n",
    "    data = pickle.load(f)\n",
    "\n",
    "data = data.rename(columns={\"imdbID\":\"tconst\"})\n",
    "\n",
    "actors_df = pd.read_csv(\"actors_cluster.csv\")\n",
    "directors_df = pd.read_csv(\"directors_cluster.csv\")\n",
    "writers_df = pd.read_csv(\"writers_cluster.csv\")\n"
   ]
  },
  {
   "cell_type": "code",
   "execution_count": 393,
   "metadata": {},
   "outputs": [],
   "source": [
    "# with open('movie_data_with_budgets.pkl', 'wb') as file: \n",
    "      \n",
    "#     # A new file will be created \n",
    "#     pickle.dump(data, file) "
   ]
  },
  {
   "cell_type": "code",
   "execution_count": 6,
   "metadata": {},
   "outputs": [],
   "source": [
    "# Imdb title data\n",
    "title_principals = pd.read_csv(\"title.principals.tsv\", sep=\"\\t\", low_memory=False)\n",
    "tconst = data[\"tconst\"].tolist()\n",
    "title_principals = title_principals[title_principals[\"tconst\"].isin(tconst)]"
   ]
  },
  {
   "cell_type": "code",
   "execution_count": 140,
   "metadata": {},
   "outputs": [],
   "source": [
    "# Add nconst list to data\n",
    "tmp_list = []\n",
    "\n",
    "for title in tconst:\n",
    "    tmp_list.append(title_principals.loc[title_principals[\"tconst\"] == title, \"nconst\"].values)\n",
    "\n",
    "data[\"nconst\"] = tmp_list"
   ]
  },
  {
   "cell_type": "code",
   "execution_count": 51,
   "metadata": {},
   "outputs": [],
   "source": [
    "# Compute average production budgets for actors\n",
    "\n",
    "# actors_df[\"avg_budget\"] = np.zeros(len(actors_df), dtype=\"float\")\n",
    "\n",
    "# for name_id in actors_df[\"nconst\"].values:\n",
    "#     title_values = title_principals[title_principals[\"category\"].isin([\"actor\", \"actress\"])].loc[title_principals[\"nconst\"] == name_id, \"tconst\"].values\n",
    "#     actors_df.loc[actors_df[\"nconst\"] == name_id, \"avg_budget\"] = data.loc[data[\"tconst\"].isin(title_values), \"Production budget\"].values.mean()"
   ]
  },
  {
   "cell_type": "code",
   "execution_count": 52,
   "metadata": {},
   "outputs": [],
   "source": [
    "# Compute average production budgets for directors\n",
    "\n",
    "# directors_df[\"avg_budget\"] = np.zeros(len(directors_df), dtype=\"float\")\n",
    "\n",
    "# for name_id in directors_df[\"nconst\"].values:\n",
    "#     title_values = title_principals[title_principals[\"category\"] == \"director\"].loc[title_principals[\"nconst\"] == name_id, \"tconst\"].values\n",
    "#     directors_df.loc[directors_df[\"nconst\"] == name_id, \"avg_budget\"] = data.loc[data[\"tconst\"].isin(title_values), \"Production budget\"].values.mean()"
   ]
  },
  {
   "cell_type": "code",
   "execution_count": 56,
   "metadata": {},
   "outputs": [],
   "source": [
    "# Compute average production budgets for writers\n",
    "\n",
    "# writers_df[\"avg_budget\"] = np.zeros(len(writers_df), dtype=\"float\")\n",
    "\n",
    "# for name_id in writers_df[\"nconst\"].values:\n",
    "#     title_values = title_principals[title_principals[\"category\"] == \"writer\"].loc[title_principals[\"nconst\"] == name_id, \"tconst\"].values\n",
    "#     writers_df.loc[writers_df[\"nconst\"] == name_id, \"avg_budget\"] = data.loc[data[\"tconst\"].isin(title_values), \"Production budget\"].values.mean()"
   ]
  },
  {
   "cell_type": "code",
   "execution_count": 57,
   "metadata": {},
   "outputs": [],
   "source": [
    "# actors_df.to_csv(\"actors_cluster.csv\")\n",
    "# directors_df.to_csv(\"directors_cluster.csv\")\n",
    "# writers_df.to_csv(\"writers_cluster.csv\")"
   ]
  },
  {
   "cell_type": "code",
   "execution_count": null,
   "metadata": {},
   "outputs": [],
   "source": [
    "# from sklearn.preprocessing import StandardScaler\n",
    "# from sklearn.cluster import KMeans\n",
    "# import matplotlib.pyplot as plt\n",
    "\n",
    "# scaler = StandardScaler()\n",
    "\n",
    "# directors_df[\"avg_budget_T\"] = scaler.fit_transform(np.log(directors_df[[\"avg_budget\"]]))\n",
    "# kmeans = KMeans(n_clusters=8)\n",
    "# kmeans.fit(directors_df[[\"avg_budget_T\", \"log_avg_profit_T\"]])\n",
    "# directors_df[\"kmeans_2\"] = kmeans.labels_\n",
    "\n",
    "\n",
    "# plt.scatter(x=directors_df[\"avg_budget\"], y=directors_df[\"log_avg_profit\"], c=directors_df[\"kmeans_2\"])\n",
    "# plt.xlabel(\"Average production budget\")\n",
    "# plt.ylabel(\"Average log profit\")\n",
    "# plt.grid(True)\n",
    "# plt.show()"
   ]
  },
  {
   "cell_type": "code",
   "execution_count": 165,
   "metadata": {},
   "outputs": [],
   "source": [
    "# Create df of average profits, budgets and number of films for actors, directors and writers of each title\n",
    "\n",
    "averages_df = pd.DataFrame(np.zeros((len(data), 9)))\n",
    "averages_df.columns = [\"actors_avg_profits\", \"actors_avg_budgets\", \"actors_avg_nof_films\",\\\n",
    "                        \"directors_avg_profits\", \"directors_avg_budgets\", \"directors_avg_nof_films\",\\\n",
    "                        \"writers_avg_profits\", \"writers_avg_budgets\", \"writers_avg_nof_films\"]\n",
    "\n",
    "nconst_list = data[\"nconst\"].values\n",
    "for row, name_ids in enumerate(nconst_list):\n",
    "\n",
    "    averages_df.loc[row, \"actors_avg_profits\"] = actors_df.loc[actors_df[\"nconst\"].isin(name_ids), \"avg_profit\"].mean()\n",
    "    averages_df.loc[row, \"actors_avg_budgets\"] = actors_df.loc[actors_df[\"nconst\"].isin(name_ids), \"avg_budget\"].mean()\n",
    "    averages_df.loc[row, \"actors_avg_nof_films\"] = actors_df.loc[actors_df[\"nconst\"].isin(name_ids), \"nof_films\"].mean()\n",
    "\n",
    "    averages_df.loc[row, \"directors_avg_profits\"] = directors_df.loc[directors_df[\"nconst\"].isin(name_ids), \"avg_profit\"].mean()\n",
    "    averages_df.loc[row, \"directors_avg_budgets\"] = directors_df.loc[directors_df[\"nconst\"].isin(name_ids), \"avg_budget\"].mean()\n",
    "    averages_df.loc[row, \"directors_avg_nof_films\"] = directors_df.loc[directors_df[\"nconst\"].isin(name_ids), \"nof_films\"].mean()\n",
    "\n",
    "    averages_df.loc[row, \"writers_avg_profits\"] = writers_df.loc[writers_df[\"nconst\"].isin(name_ids), \"avg_profit\"].mean()\n",
    "    averages_df.loc[row, \"writers_avg_budgets\"] = writers_df.loc[writers_df[\"nconst\"].isin(name_ids), \"avg_budget\"].mean()\n",
    "    averages_df.loc[row, \"writers_avg_nof_films\"] = writers_df.loc[writers_df[\"nconst\"].isin(name_ids), \"nof_films\"].mean()"
   ]
  },
  {
   "cell_type": "code",
   "execution_count": 161,
   "metadata": {},
   "outputs": [],
   "source": [
    "# Create df of genres for each title\n",
    "\n",
    "genres = np.unique(np.hstack(data[\"Genre\"]))\n",
    "\n",
    "genre_df = pd.DataFrame(np.zeros((len(data), len(genres))))\n",
    "genre_df.columns = genres\n",
    "\n",
    "genres = data[\"Genre\"].values\n",
    "\n",
    "for row in range(len(data)):\n",
    "    for genre in genres[row]:\n",
    "        genre_df.loc[row, genre] = 1\n"
   ]
  },
  {
   "cell_type": "code",
   "execution_count": 185,
   "metadata": {},
   "outputs": [
    {
     "data": {
      "text/plain": [
       "array([ 1.,  2.,  3.,  4.,  5.,  6.,  7.,  8.,  9., 10., 11., 12., nan])"
      ]
     },
     "execution_count": 185,
     "metadata": {},
     "output_type": "execute_result"
    }
   ],
   "source": []
  },
  {
   "cell_type": "code",
   "execution_count": 189,
   "metadata": {},
   "outputs": [],
   "source": [
    "# Create df of release month\n",
    "\n",
    "released = data[\"Released\"].dt.month.values\n",
    "month_columns = np.unique(released)\n",
    "\n",
    "month_df = pd.DataFrame(np.zeros((len(data), len(month_columns))))\n",
    "month_df.columns = month_columns\n",
    "\n",
    "for row, month in enumerate(released):\n",
    "    month_df.loc[row, month] = 1\n",
    "\n",
    "month_df.columns = [\"Jan\", \"Feb\", \"Mar\", \"Apr\", \"May\", \"Jun\", \"Jul\", \"Aug\", \"Sep\", \"Oct\", \"Nov\", \"Dec\", \"NaN\"]"
   ]
  },
  {
   "cell_type": "code",
   "execution_count": 248,
   "metadata": {},
   "outputs": [],
   "source": [
    "# Adjust budgets for inflation\n",
    "\n",
    "inf_adj_df = pd.read_csv(\"inflation_adjustments.csv\", sep=\"|\")\n",
    "inf_adj_df.columns = [\"year\", \"adjustment\"]\n",
    "\n",
    "inf_adj_df[\"adjustment\"] = inf_adj_df[\"adjustment\"].str.replace('%', '').astype(float)\n",
    "inf_adj_df[\"adjustment\"] = (inf_adj_df[\"adjustment\"]+100)/100\n",
    "\n",
    "\n",
    "adjusted_budget = np.zeros(len(data))\n",
    "years = data[\"Year\"].values\n",
    "budgets = data[\"Production budget\"].values\n",
    "\n",
    "for i in range(len(data)):\n",
    "    adjustment = inf_adj_df.loc[inf_adj_df[\"year\"] > years[i], \"adjustment\"].product()\n",
    "    adjusted_budget[i] = budgets[i]*adjustment\n",
    "\n",
    "\n",
    "data[\"adjusted_prod_budget\"] = adjusted_budget\n"
   ]
  },
  {
   "cell_type": "code",
   "execution_count": 327,
   "metadata": {},
   "outputs": [],
   "source": [
    "data[\"log_profit\"] = data[\"profit\"].round(2).transform(lambda x: np.log10(x) if x > 0 else 0).round(2)"
   ]
  },
  {
   "cell_type": "code",
   "execution_count": 394,
   "metadata": {},
   "outputs": [],
   "source": [
    "\n",
    "X = data[[\"log_profit\", \"Runtime\", \"adjusted_prod_budget\"]].copy().reset_index().drop(columns=\"index\")\n",
    "X = pd.concat((X, averages_df, genre_df, month_df), axis=1)\n",
    "X = X.dropna()\n",
    "y = X[\"log_profit\"].values\n",
    "\n",
    "with open('log_profit_X.pkl', 'wb') as file: \n",
    "    pickle.dump(X, file) \n",
    "\n",
    "X = X.drop(columns=\"log_profit\")\n",
    "\n",
    "\n"
   ]
  },
  {
   "cell_type": "code",
   "execution_count": 392,
   "metadata": {},
   "outputs": [
    {
     "data": {
      "image/png": "[encoded data removed]",
      "text/plain": [
       "<Figure size 640x480 with 1 Axes>"
      ]
     },
     "metadata": {},
     "output_type": "display_data"
    }
   ],
   "source": [
    "plt.hist(y, bins=30)\n",
    "plt.show()"
   ]
  },
  {
   "cell_type": "code",
   "execution_count": 331,
   "metadata": {},
   "outputs": [
    {
     "name": "stdout",
     "output_type": "stream",
     "text": [
      "                                                                               \n",
      "Generation 1 - Current best internal CV score: -0.10532808746251159\n",
      "                                                                              \n",
      "Generation 2 - Current best internal CV score: -0.10532808746251159\n",
      "                                                                              \n",
      "Generation 3 - Current best internal CV score: -0.10532808746251159\n",
      "                                                                              \n",
      "Generation 4 - Current best internal CV score: -0.10532808746251159\n",
      "                                                                              \n",
      "Generation 5 - Current best internal CV score: -0.10510541624397958\n",
      "                                                           \n",
      "Best pipeline: RandomForestRegressor(input_matrix, bootstrap=False, max_features=0.55, min_samples_leaf=2, min_samples_split=8, n_estimators=100)\n",
      "-0.11057497755241588\n"
     ]
    }
   ],
   "source": [
    "from tpot import TPOTClassifier\n",
    "from tpot import TPOTRegressor\n",
    "from sklearn.model_selection import train_test_split\n",
    "\n",
    "X_train, X_test, y_train, y_test = train_test_split(X, y, train_size=0.8)\n",
    "tpot = TPOTRegressor(generations=5, population_size=50, verbosity=2)\n",
    "tpot.fit(X_train, y_train)\n",
    "print(tpot.score(X_test, y_test))"
   ]
  },
  {
   "cell_type": "code",
   "execution_count": 335,
   "metadata": {},
   "outputs": [],
   "source": [
    "tpot.export('tpot_log_progit_regressor.py')"
   ]
  },
  {
   "cell_type": "code",
   "execution_count": 334,
   "metadata": {},
   "outputs": [
    {
     "name": "stdout",
     "output_type": "stream",
     "text": [
      "MAE 0.21127746515679444\n",
      "MSE 0.11057497755241588\n",
      "R2 0.7306049896110376\n"
     ]
    }
   ],
   "source": [
    "from sklearn.metrics import mean_absolute_error, mean_squared_error, r2_score\n",
    "\n",
    "y_pred = tpot.predict(X_test)\n",
    "\n",
    "print('MAE',mean_absolute_error(y_pred=y_pred, y_true=y_test))\n",
    "print('MSE',mean_squared_error(y_pred=y_pred, y_true=y_test))\n",
    "print('R2',r2_score(y_pred=y_pred, y_true=y_test))"
   ]
  },
  {
   "cell_type": "code",
   "execution_count": 373,
   "metadata": {},
   "outputs": [],
   "source": [
    "# profit_tresholds = np.linspace(start=0, stop=5, num=26).round(2)\n",
    "\n",
    "# data[\"profit_cat\"] = np.zeros(len(data))\n",
    "\n",
    "\n",
    "# for profit in profit_tresholds:\n",
    "#     data.loc[data[\"profit\"] > profit, \"profit_cat\"] = profit+0.1\n",
    "\n",
    "\n"
   ]
  },
  {
   "cell_type": "code",
   "execution_count": 384,
   "metadata": {},
   "outputs": [],
   "source": [
    "# X = data[[\"profit_cat\", \"Runtime\", \"adjusted_prod_budget\"]].copy().reset_index().drop(columns=\"index\")\n",
    "# X = pd.concat((X, averages_df, genre_df, month_df), axis=1)\n",
    "# X = X.dropna()\n",
    "# X = X.loc[(X[\"profit_cat\"] < 5.1) & (X[\"profit_cat\"] > 0)]\n",
    "# y = X[\"profit_cat\"].values\n",
    "\n",
    "# with open('profit_category_X.pkl', 'wb') as file: \n",
    "#     pickle.dump(X, file) \n",
    "\n",
    "# X = X.drop(columns=\"profit_cat\")"
   ]
  },
  {
   "cell_type": "code",
   "execution_count": 386,
   "metadata": {},
   "outputs": [
    {
     "data": {
      "image/png": "[encoded data removed]",
      "text/plain": [
       "<Figure size 640x480 with 1 Axes>"
      ]
     },
     "metadata": {},
     "output_type": "display_data"
    }
   ],
   "source": [
    "# plt.hist(y, bins=24)\n",
    "# plt.show()"
   ]
  },
  {
   "cell_type": "code",
   "execution_count": 388,
   "metadata": {},
   "outputs": [
    {
     "name": "stdout",
     "output_type": "stream",
     "text": [
      "                                                                              \n",
      "Generation 1 - Current best internal CV score: -0.4152288668154531\n",
      "                                                                              \n",
      "Generation 2 - Current best internal CV score: -0.41014961812485706\n",
      "                                                                                \n",
      "Generation 3 - Current best internal CV score: -0.398202328957185\n",
      "                                                                              \n",
      "Generation 4 - Current best internal CV score: -0.398202328957185\n",
      "                                                                              \n",
      "Generation 5 - Current best internal CV score: -0.398202328957185\n",
      "                                                                              \n",
      "Best pipeline: RandomForestRegressor(ElasticNetCV(input_matrix, l1_ratio=0.45, tol=1e-05), bootstrap=False, max_features=0.35000000000000003, min_samples_leaf=1, min_samples_split=5, n_estimators=100)\n",
      "-0.4316220327160493\n"
     ]
    },
    {
     "name": "stderr",
     "output_type": "stream",
     "text": [
      "c:\\Users\\samul\\AppData\\Local\\Programs\\Python\\Python312\\Lib\\site-packages\\sklearn\\base.py:493: UserWarning: X does not have valid feature names, but ElasticNetCV was fitted with feature names\n",
      "  warnings.warn(\n"
     ]
    }
   ],
   "source": [
    "# from tpot import TPOTClassifier\n",
    "# from tpot import TPOTRegressor\n",
    "# from sklearn.model_selection import train_test_split\n",
    "\n",
    "# X_train, X_test, y_train, y_test = train_test_split(X, y, train_size=0.8)\n",
    "# tpot = TPOTRegressor(generations=5, population_size=50, verbosity=2)\n",
    "# tpot.fit(X_train, y_train)\n",
    "# print(tpot.score(X_test, y_test))"
   ]
  }
 ],
 "metadata": {
  "kernelspec": {
   "display_name": "Python 3",
   "language": "python",
   "name": "python3"
  },
  "language_info": {
   "codemirror_mode": {
    "name": "ipython",
    "version": 3
   },
   "file_extension": ".py",
   "mimetype": "text/x-python",
   "name": "python",
   "nbconvert_exporter": "python",
   "pygments_lexer": "ipython3",
   "version": "3.12.7"
  }
 },
 "nbformat": 4,
 "nbformat_minor": 2
}
